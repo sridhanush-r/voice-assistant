{
 "cells": [
  {
   "cell_type": "code",
   "execution_count": null,
   "id": "a977e2df",
   "metadata": {},
   "outputs": [],
   "source": [
    "! pip install SpeechRecognition\n",
    "! pip install pyttsx3"
   ]
  },
  {
   "cell_type": "code",
   "execution_count": null,
   "id": "837d586b",
   "metadata": {},
   "outputs": [],
   "source": [
    "! pip install pyaudio"
   ]
  },
  {
   "cell_type": "code",
   "execution_count": null,
   "id": "35f7b110",
   "metadata": {},
   "outputs": [],
   "source": [
    "import speech_recognition as sr\n",
    "import pyttsx3\n",
    "\n",
    "print(\"Hello! I am your voice assistant. How can I help you today?\")\n",
    "\n",
    "def speak(text):\n",
    "    engine = pyttsx3.init()\n",
    "    engine.say(text)\n",
    "    engine.runAndWait()\n",
    "\n",
    "def listen():\n",
    "    recognizer = sr.Recognizer()\n",
    "\n",
    "    with sr.Microphone() as source:\n",
    "        print(\"Listening...\")\n",
    "        recognizer.adjust_for_ambient_noise(source)\n",
    "        audio = recognizer.listen(source)\n",
    "\n",
    "    try:\n",
    "        print(\"Recognizing...\")\n",
    "        query = recognizer.recognize_google(audio)\n",
    "        print(f\"User said: {query}\")\n",
    "        return query.lower()\n",
    "    except sr.UnknownValueError:\n",
    "        print(\"Sorry, I didn't catch that. Could you please repeat?\")\n",
    "        return \"\"\n",
    "    except sr.RequestError as e:\n",
    "        print(f\"Could not request results from Google Speech Recognition service; {e}\")\n",
    "        return \"\"\n",
    "\n",
    "def main():\n",
    "    speak(\"Hello! I am your voice assistant. How can I help you today?\")\n",
    "\n",
    "    while True:\n",
    "        command = listen()\n",
    "\n",
    "        if \"hello\" or \"hi\" in command:\n",
    "            print(\"Hi there! How can I assist you?\")\n",
    "            speak(\"Hi there! How can I assist you?\")\n",
    "        elif \"how are you\" in command:\n",
    "            print(\"Im good what about you!\")\n",
    "            speak(\"Im good what about you!\")\n",
    "        elif \"bye\" or \"exit\" or \"quit\"in command :\n",
    "            print(\"Goodbye! Have a great day.\")\n",
    "            speak(\"Goodbye! Have a great day.\")\n",
    "            break\n",
    "        else:\n",
    "            speak(\"I'm sorry,I didn't catch that. Could you please repeat?\")\n",
    "\n",
    "if __name__ == \"__main__\":\n",
    "    main()"
   ]
  },
  {
   "cell_type": "code",
   "execution_count": null,
   "id": "61e33ee7",
   "metadata": {},
   "outputs": [],
   "source": []
  },
  {
   "cell_type": "code",
   "execution_count": null,
   "id": "5487e5e4",
   "metadata": {},
   "outputs": [],
   "source": []
  }
 ],
 "metadata": {
  "kernelspec": {
   "display_name": "Python 3 (ipykernel)",
   "language": "python",
   "name": "python3"
  },
  "language_info": {
   "codemirror_mode": {
    "name": "ipython",
    "version": 3
   },
   "file_extension": ".py",
   "mimetype": "text/x-python",
   "name": "python",
   "nbconvert_exporter": "python",
   "pygments_lexer": "ipython3",
   "version": "3.11.3"
  }
 },
 "nbformat": 4,
 "nbformat_minor": 5
}
